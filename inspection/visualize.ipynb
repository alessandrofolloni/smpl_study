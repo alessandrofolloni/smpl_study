{
 "cells": [
  {
   "cell_type": "code",
   "id": "initial_id",
   "metadata": {
    "collapsed": true,
    "ExecuteTime": {
     "end_time": "2024-09-16T07:45:07.191994Z",
     "start_time": "2024-09-16T07:45:01.891997Z"
    }
   },
   "source": [
    "import json\n",
    "import numpy as np\n",
    "import cv2\n",
    "#import matplotlib.pyplot as plt\n",
    "#import sys"
   ],
   "outputs": [],
   "execution_count": 1
  },
  {
   "metadata": {
    "ExecuteTime": {
     "end_time": "2024-09-16T07:45:10.315484Z",
     "start_time": "2024-09-16T07:45:10.302452Z"
    }
   },
   "cell_type": "code",
   "source": [
    "dataset_name = \"FIT3D\"\n",
    "\n",
    "data_root = \"datasets\"\n",
    "subset = \"train\"\n",
    "subj_name = \"s03\"\n",
    "action_name = 'band_pull_apart'\n",
    "camera_name = '50591643' # select from ['50591643', '58860488', '60457274', '65906101']\n",
    "subject = 'w_markers' \n",
    "''' Fit3d has only the w_markers option'''"
   ],
   "id": "583e011ea111ae23",
   "outputs": [
    {
     "data": {
      "text/plain": [
       "' Fit3d has only the w_markers option'"
      ]
     },
     "execution_count": 2,
     "metadata": {},
     "output_type": "execute_result"
    }
   ],
   "execution_count": 2
  },
  {
   "metadata": {
    "ExecuteTime": {
     "end_time": "2024-09-16T07:45:18.074204Z",
     "start_time": "2024-09-16T07:45:18.065250Z"
    }
   },
   "cell_type": "code",
   "source": [
    "# returns a list of frames in RGB format\n",
    "def read_video(vid_path):\n",
    "    frames = []\n",
    "    cap = cv2.VideoCapture(vid_path)\n",
    "    while cap.isOpened():\n",
    "        ret, frame = cap.read()\n",
    "        if not ret:\n",
    "            break\n",
    "        frames.append(cv2.cvtColor(frame, cv2.COLOR_BGR2RGB) )\n",
    "    cap.release()\n",
    "    frames = np.array(frames)\n",
    "    return frames\n",
    "\n",
    "# reads camera params\n",
    "def read_cam_params(cam_path):\n",
    "    with open(cam_path) as f:\n",
    "        cam_params = json.load(f)\n",
    "        for key1 in cam_params:\n",
    "            for key2 in cam_params[key1]:\n",
    "                cam_params[key1][key2] = np.array(cam_params[key1][key2]) \n",
    "    return cam_params"
   ],
   "id": "c64f9ba417d13446",
   "outputs": [],
   "execution_count": 3
  },
  {
   "metadata": {
    "ExecuteTime": {
     "end_time": "2024-09-16T07:45:24.172287Z",
     "start_time": "2024-09-16T07:45:24.160292Z"
    }
   },
   "cell_type": "code",
   "source": [
    "def read_data(data_root, dataset_name, subset, subj_name, action_name, camera_name, subject = \"w_markers\"):\n",
    "    \"\"\" Builds the paths \"\"\"\n",
    "    vid_path = '%s/%s/%s/%s/videos/%s/%s.mp4' % (data_root, dataset_name, subset, subj_name, camera_name, action_name)\n",
    "    cam_path = '%s/%s/%s/%s/camera_parameters/%s/%s.json' % (data_root, dataset_name, subset, subj_name, camera_name, action_name)\n",
    "    j3d_path = '%s/%s/%s/%s/joints3d_25/%s.json' % (data_root, dataset_name, subset, subj_name, action_name)\n",
    "    gpp_path = '%s/%s/%s/%s/gpp/%s.json' % (data_root, dataset_name, subset, subj_name, action_name)\n",
    "    smplx_path = '%s/%s/%s/%s/smplx/%s.json' % (data_root, dataset_name, subset, subj_name, action_name)\n",
    "\n",
    "    \"\"\" Read camera params \"\"\"\n",
    "    cam_params = read_cam_params(cam_path)\n",
    "\n",
    "    with open(j3d_path) as f:\n",
    "        j3ds = np.array(json.load(f)['joints3d_25'])\n",
    "    seq_len = j3ds.shape[-3]\n",
    "    with open(gpp_path) as f:\n",
    "        gpps = json.load(f)\n",
    "    with open(smplx_path) as f:\n",
    "        smplx_params = json.load(f)\n",
    "    frames = read_video(vid_path)[:seq_len]\n",
    "    \n",
    "    dataset_to_ann_type = {'fit3d': 'rep_ann'}\n",
    "    \n",
    "    ann_type = dataset_to_ann_type[dataset_name]\n",
    "    annotations = None\n",
    "    if ann_type:\n",
    "        ann_path = '%s/%s/%s/%s/%s.json' % (data_root, dataset_name, subset, subj_name, ann_type)\n",
    "        with open(ann_path) as f:\n",
    "            annotations = json.load(f)\n",
    "    \n",
    "    return frames, j3ds, cam_params, gpps, smplx_params, annotations"
   ],
   "id": "d42f9262bed43677",
   "outputs": [],
   "execution_count": 4
  },
  {
   "metadata": {},
   "cell_type": "code",
   "outputs": [],
   "execution_count": null,
   "source": "read_data(data_root,dataset_name,subset,subj_name,action_name,camera_name)",
   "id": "924c4eb8616f700d"
  },
  {
   "metadata": {},
   "cell_type": "code",
   "outputs": [],
   "execution_count": null,
   "source": "",
   "id": "8152387c06dc428a"
  }
 ],
 "metadata": {
  "kernelspec": {
   "display_name": "Python 3",
   "language": "python",
   "name": "python3"
  },
  "language_info": {
   "codemirror_mode": {
    "name": "ipython",
    "version": 2
   },
   "file_extension": ".py",
   "mimetype": "text/x-python",
   "name": "python",
   "nbconvert_exporter": "python",
   "pygments_lexer": "ipython2",
   "version": "2.7.6"
  }
 },
 "nbformat": 4,
 "nbformat_minor": 5
}
